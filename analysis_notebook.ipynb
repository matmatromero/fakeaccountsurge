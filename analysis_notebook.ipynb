{
 "cells": [
  {
   "cell_type": "markdown",
   "metadata": {},
   "source": [
    "# <font color=\"darkred\"> [Possible] Factors for the Recent Surge of Fake Accounts  </font>\n",
    "Matthew Romero  \n",
    "matmat.romero@gmail.com\n",
    "\n"
   ]
  },
  {
   "cell_type": "markdown",
   "metadata": {},
   "source": [
    "# Introduction\n",
    "In the morning of June 07, 2020, Facebook users woke up to find fake profiles resembling themselves. Some of whom had little to no friends in it, while some fake profiles imitated the personalities of the real profiles they copied. The reality was that everyone could've been a victim. People were clueless as to how this happened. This very simple and minute study sought to determine the correlation between some common political behaviors that led to these individuals to become a victim of these fake profiles. "
   ]
  },
  {
   "cell_type": "code",
   "execution_count": 31,
   "metadata": {},
   "outputs": [],
   "source": [
    "import numpy as np\n",
    "import pandas as pd\n",
    "import matplotlib.pyplot as plt\n",
    "import mglearn\n",
    "from sklearn.neighbors import KNeighborsClassifier\n",
    "from sklearn.model_selection import train_test_split\n",
    "from sklearn.model_selection import cross_val_score\n",
    "from scipy.stats import chi2_contingency \n",
    "\n",
    "pass"
   ]
  },
  {
   "cell_type": "markdown",
   "metadata": {},
   "source": [
    "The responses to this study was gathered using Microsoft Forms. [(The questionnaire can be found here)](https://forms.office.com/Pages/ResponsePage.aspx?id=Zz3KImWBbke5GEsuMeBHup_9C11ArKVNu6u3wzXcwPxURjFVUjBMVzc3WTlYMTVEQkhESFNBRUYwUi4u) Afterwards, the responses were saved in a csv file to be processed here.\n",
    "\n",
    "**Assumption**: Responses were collected anonmyously and each user were not limited to one answer only. There is no way of knowing if a certain user had multiple answers to this questionnaire. This could decrease the reliability of this test.\n"
   ]
  },
  {
   "cell_type": "markdown",
   "metadata": {},
   "source": [
    "The following questions were asked to the respondents:\n",
    "- Did you sign the junk terror bill online petition?\n",
    "- Did you post something with the hashtag #JunkTerrorBill?\n",
    "- Are/Were you a part of the Big 4 trashtalkan Facebook group?\n",
    "- Are you a victim of the recent rise of fake accounts on Facebook?\n",
    "\n",
    "The first 3 statements refer to the possible factor that led to the fake profile creation, and the latter was asked to check if they were a victim or not."
   ]
  },
  {
   "cell_type": "code",
   "execution_count": 2,
   "metadata": {},
   "outputs": [
    {
     "data": {
      "text/html": [
       "<div>\n",
       "<style scoped>\n",
       "    .dataframe tbody tr th:only-of-type {\n",
       "        vertical-align: middle;\n",
       "    }\n",
       "\n",
       "    .dataframe tbody tr th {\n",
       "        vertical-align: top;\n",
       "    }\n",
       "\n",
       "    .dataframe thead th {\n",
       "        text-align: right;\n",
       "    }\n",
       "</style>\n",
       "<table border=\"1\" class=\"dataframe\">\n",
       "  <thead>\n",
       "    <tr style=\"text-align: right;\">\n",
       "      <th></th>\n",
       "      <th>Did you sign the junk terror bill online petition?</th>\n",
       "      <th>Did you post something with the hashtag #JunkTerrorBill?</th>\n",
       "      <th>Are/Were you a part of the Big 4 trashtalkan Facebook group?</th>\n",
       "      <th>Are you a victim of the recent rise of fake accounts on Facebook?</th>\n",
       "    </tr>\n",
       "  </thead>\n",
       "  <tbody>\n",
       "    <tr>\n",
       "      <th>0</th>\n",
       "      <td>No</td>\n",
       "      <td>Yes</td>\n",
       "      <td>No</td>\n",
       "      <td>No</td>\n",
       "    </tr>\n",
       "    <tr>\n",
       "      <th>1</th>\n",
       "      <td>No</td>\n",
       "      <td>No</td>\n",
       "      <td>Yes</td>\n",
       "      <td>Yes</td>\n",
       "    </tr>\n",
       "    <tr>\n",
       "      <th>2</th>\n",
       "      <td>Yes</td>\n",
       "      <td>Yes</td>\n",
       "      <td>Yes</td>\n",
       "      <td>Yes</td>\n",
       "    </tr>\n",
       "    <tr>\n",
       "      <th>3</th>\n",
       "      <td>No</td>\n",
       "      <td>No</td>\n",
       "      <td>No</td>\n",
       "      <td>No</td>\n",
       "    </tr>\n",
       "    <tr>\n",
       "      <th>4</th>\n",
       "      <td>No</td>\n",
       "      <td>Yes</td>\n",
       "      <td>Yes</td>\n",
       "      <td>No</td>\n",
       "    </tr>\n",
       "  </tbody>\n",
       "</table>\n",
       "</div>"
      ],
      "text/plain": [
       "  Did you sign the junk terror bill online petition?  \\\n",
       "0                                                 No   \n",
       "1                                                 No   \n",
       "2                                                Yes   \n",
       "3                                                 No   \n",
       "4                                                 No   \n",
       "\n",
       "  Did you post something with the hashtag #JunkTerrorBill?  \\\n",
       "0                                                Yes         \n",
       "1                                                 No         \n",
       "2                                                Yes         \n",
       "3                                                 No         \n",
       "4                                                Yes         \n",
       "\n",
       "  Are/Were you a part of the Big 4 trashtalkan Facebook group?  \\\n",
       "0                                                 No             \n",
       "1                                                Yes             \n",
       "2                                                Yes             \n",
       "3                                                 No             \n",
       "4                                                Yes             \n",
       "\n",
       "  Are you a victim of the recent rise of fake accounts on Facebook?  \n",
       "0                                                 No                 \n",
       "1                                                Yes                 \n",
       "2                                                Yes                 \n",
       "3                                                 No                 \n",
       "4                                                 No                 "
      ]
     },
     "execution_count": 2,
     "metadata": {},
     "output_type": "execute_result"
    }
   ],
   "source": [
    "df = pd.read_csv('trolls.csv', \n",
    "                 usecols=[5,6,7,8]).dropna().reset_index(drop=True)\n",
    "df.head()"
   ]
  },
  {
   "cell_type": "markdown",
   "metadata": {},
   "source": [
    "The column headers of the dataset were renamed for easier processing."
   ]
  },
  {
   "cell_type": "code",
   "execution_count": 32,
   "metadata": {},
   "outputs": [
    {
     "data": {
      "text/html": [
       "<div>\n",
       "<style scoped>\n",
       "    .dataframe tbody tr th:only-of-type {\n",
       "        vertical-align: middle;\n",
       "    }\n",
       "\n",
       "    .dataframe tbody tr th {\n",
       "        vertical-align: top;\n",
       "    }\n",
       "\n",
       "    .dataframe thead th {\n",
       "        text-align: right;\n",
       "    }\n",
       "</style>\n",
       "<table border=\"1\" class=\"dataframe\">\n",
       "  <thead>\n",
       "    <tr style=\"text-align: right;\">\n",
       "      <th></th>\n",
       "      <th>sign_petition</th>\n",
       "      <th>post_terrorbill</th>\n",
       "      <th>part_bigfour</th>\n",
       "      <th>victim</th>\n",
       "    </tr>\n",
       "  </thead>\n",
       "  <tbody>\n",
       "    <tr>\n",
       "      <th>0</th>\n",
       "      <td>No</td>\n",
       "      <td>Yes</td>\n",
       "      <td>No</td>\n",
       "      <td>No</td>\n",
       "    </tr>\n",
       "    <tr>\n",
       "      <th>1</th>\n",
       "      <td>No</td>\n",
       "      <td>No</td>\n",
       "      <td>Yes</td>\n",
       "      <td>Yes</td>\n",
       "    </tr>\n",
       "    <tr>\n",
       "      <th>2</th>\n",
       "      <td>Yes</td>\n",
       "      <td>Yes</td>\n",
       "      <td>Yes</td>\n",
       "      <td>Yes</td>\n",
       "    </tr>\n",
       "    <tr>\n",
       "      <th>3</th>\n",
       "      <td>No</td>\n",
       "      <td>No</td>\n",
       "      <td>No</td>\n",
       "      <td>No</td>\n",
       "    </tr>\n",
       "    <tr>\n",
       "      <th>4</th>\n",
       "      <td>No</td>\n",
       "      <td>Yes</td>\n",
       "      <td>Yes</td>\n",
       "      <td>No</td>\n",
       "    </tr>\n",
       "  </tbody>\n",
       "</table>\n",
       "</div>"
      ],
      "text/plain": [
       "  sign_petition post_terrorbill part_bigfour victim\n",
       "0            No             Yes           No     No\n",
       "1            No              No          Yes    Yes\n",
       "2           Yes             Yes          Yes    Yes\n",
       "3            No              No           No     No\n",
       "4            No             Yes          Yes     No"
      ]
     },
     "execution_count": 32,
     "metadata": {},
     "output_type": "execute_result"
    }
   ],
   "source": [
    "df.columns = ['sign_petition', 'post_terrorbill', 'part_bigfour', 'victim']\n",
    "df.head()"
   ]
  },
  {
   "cell_type": "markdown",
   "metadata": {},
   "source": [
    "Using the `df.shape` method, the number of samples could be counted."
   ]
  },
  {
   "cell_type": "code",
   "execution_count": 5,
   "metadata": {},
   "outputs": [
    {
     "data": {
      "text/plain": [
       "(136, 4)"
      ]
     },
     "execution_count": 5,
     "metadata": {},
     "output_type": "execute_result"
    }
   ],
   "source": [
    "df.shape"
   ]
  },
  {
   "cell_type": "markdown",
   "metadata": {},
   "source": [
    "There are `136` samples in this data set.  "
   ]
  },
  {
   "cell_type": "markdown",
   "metadata": {},
   "source": [
    "# Chi-Square Test\n",
    "\n",
    "In dealing with categorical data, the Chi-Square is used to test the correlation between the independent categorical features of a dataset to the outcome. In this case, we're testing if the 3 features `sign_petition`, `post_terrorbill`, `part_bigfour` had a hand in determining if one is a `victim`. "
   ]
  },
  {
   "cell_type": "markdown",
   "metadata": {},
   "source": [
    "Before analyzing the dataset via Chi-Square Test, the samples were counted per feature:"
   ]
  },
  {
   "cell_type": "code",
   "execution_count": 33,
   "metadata": {},
   "outputs": [
    {
     "data": {
      "text/html": [
       "<div>\n",
       "<style scoped>\n",
       "    .dataframe tbody tr th:only-of-type {\n",
       "        vertical-align: middle;\n",
       "    }\n",
       "\n",
       "    .dataframe tbody tr th {\n",
       "        vertical-align: top;\n",
       "    }\n",
       "\n",
       "    .dataframe thead th {\n",
       "        text-align: right;\n",
       "    }\n",
       "</style>\n",
       "<table border=\"1\" class=\"dataframe\">\n",
       "  <thead>\n",
       "    <tr style=\"text-align: right;\">\n",
       "      <th></th>\n",
       "      <th>sign_petition</th>\n",
       "      <th>post_terrorbill</th>\n",
       "      <th>part_bigfour</th>\n",
       "      <th>victim</th>\n",
       "    </tr>\n",
       "  </thead>\n",
       "  <tbody>\n",
       "    <tr>\n",
       "      <th>No</th>\n",
       "      <td>84</td>\n",
       "      <td>72</td>\n",
       "      <td>70</td>\n",
       "      <td>69</td>\n",
       "    </tr>\n",
       "    <tr>\n",
       "      <th>Yes</th>\n",
       "      <td>52</td>\n",
       "      <td>64</td>\n",
       "      <td>66</td>\n",
       "      <td>67</td>\n",
       "    </tr>\n",
       "  </tbody>\n",
       "</table>\n",
       "</div>"
      ],
      "text/plain": [
       "     sign_petition  post_terrorbill  part_bigfour  victim\n",
       "No              84               72            70      69\n",
       "Yes             52               64            66      67"
      ]
     },
     "execution_count": 33,
     "metadata": {},
     "output_type": "execute_result"
    }
   ],
   "source": [
    "df1 = df.apply(pd.value_counts)\n",
    "df1"
   ]
  },
  {
   "cell_type": "markdown",
   "metadata": {},
   "source": [
    "The dataset then was analyzed using the chi-square distribution of Scipy which is `chi2_contingency`."
   ]
  },
  {
   "cell_type": "code",
   "execution_count": 8,
   "metadata": {},
   "outputs": [
    {
     "data": {
      "text/plain": [
       "(4.288013069226056,\n",
       " 0.23199650691088683,\n",
       " 3,\n",
       " array([[73.75, 73.75, 73.75, 73.75],\n",
       "        [62.25, 62.25, 62.25, 62.25]]))"
      ]
     },
     "execution_count": 8,
     "metadata": {},
     "output_type": "execute_result"
    }
   ],
   "source": [
    "chi2_contingency(df1)"
   ]
  },
  {
   "cell_type": "markdown",
   "metadata": {},
   "source": [
    "We see a high p-value at 0.2319. This tells us that the features don't dictate who becomes a victim.\n",
    "\n",
    "This is also shown here below."
   ]
  },
  {
   "cell_type": "code",
   "execution_count": 9,
   "metadata": {},
   "outputs": [
    {
     "name": "stdout",
     "output_type": "stream",
     "text": [
      "Chi2 result of the contingency table: 4.288013069226056, p-value: 0.23199650691088683\n"
     ]
    }
   ],
   "source": [
    "chi2, p, dof, ex = chi2_contingency(df1, correction=True)\n",
    "print(f\"Chi2 result of the contingency table: {chi2}, p-value: {p}\")"
   ]
  },
  {
   "cell_type": "markdown",
   "metadata": {},
   "source": [
    "We can actually make the conclusion that it doesn't matter what you did on Facebook; whether you signed the petition against the anti-terrorism bill, posted something against the anti-terrorism bill with the hashtag #JunkTerrorBill, or if you joined the Big 4 Trashtalkan Fb group, anyone could've been a victim. "
   ]
  },
  {
   "attachments": {
    "image.png": {
     "image/png": "[encoded data removed]"
    }
   },
   "cell_type": "markdown",
   "metadata": {},
   "source": [
    "# kNN Classifier\n",
    "\n",
    "Even though the correlations are weak, let's try to extend this further by determining which of these activities led to the individuals being victimized via machine learning. For this data set, we will be using the k-Nearest Neighbors Classifier.\n",
    "\n",
    "In pattern recognition, the k-nearest neighbors algorithm (k-NN) is a non-parametric method used for classification and regression. In both cases, the input consists of the k closest training examples in the feature space. The output depends on whether k-NN is used for classification or regression:\n",
    "\n",
    "- In k-NN classification, the output is a class membership. An object is classified by a plurality vote of its neighbors, with the object being assigned to the class most common among its k nearest neighbors (k is a positive integer, typically small). If k = 1, then the object is simply assigned to the class of that single nearest neighbor\n",
    "\n",
    "- In k-NN regression, the output is the property value for the object. This value is the average of the values of k nearest neighbors.[[src]](https://en.wikipedia.org/wiki/K-nearest_neighbors_algorithm)  \n",
    "\n",
    "![image.png](attachment:image.png)\n",
    "\n",
    "In simple terms, the kNN Classifier Machine Learning algorithm checks if your data falls within a given pattern. A most popular example of this is when you program an app that detects whether the picture is a dog or a cat. You must first feed your app with lots of pictures of dog then label the pictures as `dog`, and do the same thing with cats and label them as `cat`. The app detects features such as face_structure, fur_length, nose_length, and other features when determining if the picture you will show is a cat or a dog.\n",
    "\n",
    "In this, what will be determined is if activities done in any of the three features `sign_petition`, `post_terrorbill`, `part_bigfour` will make someone become a `victim` of having a fake account. The algorithm can predict this for us.\n",
    "\n",
    "A bit of data cleaning was done for better processing later on. The dataframe was renamed to `df_trolls` and the values were replaced with `1` and `0`, corresponding to `Yes` and `No` respectively."
   ]
  },
  {
   "cell_type": "code",
   "execution_count": 10,
   "metadata": {},
   "outputs": [],
   "source": [
    "df_TROLLS = df"
   ]
  },
  {
   "cell_type": "code",
   "execution_count": 11,
   "metadata": {},
   "outputs": [],
   "source": [
    "df_TROLLS = df_TROLLS.replace(['Yes', 'No'], [1,0])"
   ]
  },
  {
   "cell_type": "code",
   "execution_count": 12,
   "metadata": {},
   "outputs": [
    {
     "data": {
      "text/html": [
       "<div>\n",
       "<style scoped>\n",
       "    .dataframe tbody tr th:only-of-type {\n",
       "        vertical-align: middle;\n",
       "    }\n",
       "\n",
       "    .dataframe tbody tr th {\n",
       "        vertical-align: top;\n",
       "    }\n",
       "\n",
       "    .dataframe thead th {\n",
       "        text-align: right;\n",
       "    }\n",
       "</style>\n",
       "<table border=\"1\" class=\"dataframe\">\n",
       "  <thead>\n",
       "    <tr style=\"text-align: right;\">\n",
       "      <th></th>\n",
       "      <th>sign_petition</th>\n",
       "      <th>post_terrorbill</th>\n",
       "      <th>part_bigfour</th>\n",
       "      <th>victim</th>\n",
       "    </tr>\n",
       "  </thead>\n",
       "  <tbody>\n",
       "    <tr>\n",
       "      <th>0</th>\n",
       "      <td>0</td>\n",
       "      <td>1</td>\n",
       "      <td>0</td>\n",
       "      <td>0</td>\n",
       "    </tr>\n",
       "    <tr>\n",
       "      <th>1</th>\n",
       "      <td>0</td>\n",
       "      <td>0</td>\n",
       "      <td>1</td>\n",
       "      <td>1</td>\n",
       "    </tr>\n",
       "    <tr>\n",
       "      <th>2</th>\n",
       "      <td>1</td>\n",
       "      <td>1</td>\n",
       "      <td>1</td>\n",
       "      <td>1</td>\n",
       "    </tr>\n",
       "    <tr>\n",
       "      <th>3</th>\n",
       "      <td>0</td>\n",
       "      <td>0</td>\n",
       "      <td>0</td>\n",
       "      <td>0</td>\n",
       "    </tr>\n",
       "    <tr>\n",
       "      <th>4</th>\n",
       "      <td>0</td>\n",
       "      <td>1</td>\n",
       "      <td>1</td>\n",
       "      <td>0</td>\n",
       "    </tr>\n",
       "  </tbody>\n",
       "</table>\n",
       "</div>"
      ],
      "text/plain": [
       "   sign_petition  post_terrorbill  part_bigfour  victim\n",
       "0              0                1             0       0\n",
       "1              0                0             1       1\n",
       "2              1                1             1       1\n",
       "3              0                0             0       0\n",
       "4              0                1             1       0"
      ]
     },
     "execution_count": 12,
     "metadata": {},
     "output_type": "execute_result"
    }
   ],
   "source": [
    "df_TROLLS.head()"
   ]
  },
  {
   "cell_type": "markdown",
   "metadata": {},
   "source": [
    "For the k-Nearest Neighbors algorithm to work, the first three features must be separated to the target [`victim`]. A variable was created to store the three features, for easier usage later on."
   ]
  },
  {
   "cell_type": "code",
   "execution_count": 13,
   "metadata": {},
   "outputs": [],
   "source": [
    "dummy = df_TROLLS"
   ]
  },
  {
   "cell_type": "code",
   "execution_count": 14,
   "metadata": {},
   "outputs": [
    {
     "data": {
      "text/html": [
       "<div>\n",
       "<style scoped>\n",
       "    .dataframe tbody tr th:only-of-type {\n",
       "        vertical-align: middle;\n",
       "    }\n",
       "\n",
       "    .dataframe tbody tr th {\n",
       "        vertical-align: top;\n",
       "    }\n",
       "\n",
       "    .dataframe thead th {\n",
       "        text-align: right;\n",
       "    }\n",
       "</style>\n",
       "<table border=\"1\" class=\"dataframe\">\n",
       "  <thead>\n",
       "    <tr style=\"text-align: right;\">\n",
       "      <th></th>\n",
       "      <th>sign_petition</th>\n",
       "      <th>post_terrorbill</th>\n",
       "      <th>part_bigfour</th>\n",
       "    </tr>\n",
       "  </thead>\n",
       "  <tbody>\n",
       "    <tr>\n",
       "      <th>0</th>\n",
       "      <td>0</td>\n",
       "      <td>1</td>\n",
       "      <td>0</td>\n",
       "    </tr>\n",
       "    <tr>\n",
       "      <th>1</th>\n",
       "      <td>0</td>\n",
       "      <td>0</td>\n",
       "      <td>1</td>\n",
       "    </tr>\n",
       "    <tr>\n",
       "      <th>2</th>\n",
       "      <td>1</td>\n",
       "      <td>1</td>\n",
       "      <td>1</td>\n",
       "    </tr>\n",
       "    <tr>\n",
       "      <th>3</th>\n",
       "      <td>0</td>\n",
       "      <td>0</td>\n",
       "      <td>0</td>\n",
       "    </tr>\n",
       "    <tr>\n",
       "      <th>4</th>\n",
       "      <td>0</td>\n",
       "      <td>1</td>\n",
       "      <td>1</td>\n",
       "    </tr>\n",
       "  </tbody>\n",
       "</table>\n",
       "</div>"
      ],
      "text/plain": [
       "   sign_petition  post_terrorbill  part_bigfour\n",
       "0              0                1             0\n",
       "1              0                0             1\n",
       "2              1                1             1\n",
       "3              0                0             0\n",
       "4              0                1             1"
      ]
     },
     "execution_count": 14,
     "metadata": {},
     "output_type": "execute_result"
    }
   ],
   "source": [
    "df_features = dummy.drop('victim', axis=1)\n",
    "df_features.head()"
   ]
  },
  {
   "cell_type": "markdown",
   "metadata": {},
   "source": [
    "Before running the kNN algorithm, we can immediately check the accuracy of our model and evaluate if this is usable or not. The code below separates the dataset into the training and test sets, and measures their accuracy when a certain `k` value is used."
   ]
  },
  {
   "cell_type": "code",
   "execution_count": 80,
   "metadata": {},
   "outputs": [
    {
     "name": "stdout",
     "output_type": "stream",
     "text": [
      "Highest possible accuracy for training set: 0.6176470588235294\n",
      "Highest possible accuracy for test set: 0.5294117647058824\n"
     ]
    },
    {
     "data": {
      "image/png": "[encoded data removed]",
      "text/plain": [
       "<Figure size 720x360 with 1 Axes>"
      ]
     },
     "metadata": {
      "needs_background": "light"
     },
     "output_type": "display_data"
    }
   ],
   "source": [
    "X_train, X_test, y_train, y_test = train_test_split(df_features,df_TROLLS['victim'], \n",
    "                                                    test_size=0.25,random_state=1)\n",
    "\n",
    "training_accuracy = []\n",
    "test_accuracy = []\n",
    "neighbors_settings = range(1, 50) # try n_neighbors from 1 to 50\n",
    "\n",
    "for n_neighbors in neighbors_settings:   \n",
    "    clf = KNeighborsClassifier(n_neighbors=n_neighbors)  # build the model\n",
    "    clf.fit(X_train, y_train)\n",
    "    \n",
    "    training_accuracy.append(clf.score(X_train, y_train)) # record training set accuracy\n",
    "    test_accuracy.append(clf.score(X_test, y_test))   # record generalization accuracy\n",
    "\n",
    "plt.figure(figsize=(10,5))\n",
    "plt.plot(neighbors_settings, training_accuracy, label=\"training accuracy\")\n",
    "plt.plot(neighbors_settings, test_accuracy, label=\"test accuracy\")\n",
    "plt.ylabel(\"Accuracy\")\n",
    "plt.xlabel(\"n_neighbors\")\n",
    "plt.legend()\n",
    "plt.grid()\n",
    "print(\"Highest possible accuracy for training set: {}\".format(max(training_accuracy)))\n",
    "print(\"Highest possible accuracy for test set: {}\".format(max(test_accuracy)))\n",
    "pass"
   ]
  },
  {
   "cell_type": "markdown",
   "metadata": {},
   "source": [
    "The training set had a 61.7% accuracy rate and the highest accuracy the test set can achieve is 53%. Not so promising, meaning that there is a chance that half of the outcomes are predicted wrong.  \n",
    "\n",
    "The codes below will implement the kNN Machine Learning algorithm.   "
   ]
  },
  {
   "cell_type": "code",
   "execution_count": 16,
   "metadata": {},
   "outputs": [
    {
     "data": {
      "text/html": [
       "<div>\n",
       "<style scoped>\n",
       "    .dataframe tbody tr th:only-of-type {\n",
       "        vertical-align: middle;\n",
       "    }\n",
       "\n",
       "    .dataframe tbody tr th {\n",
       "        vertical-align: top;\n",
       "    }\n",
       "\n",
       "    .dataframe thead th {\n",
       "        text-align: right;\n",
       "    }\n",
       "</style>\n",
       "<table border=\"1\" class=\"dataframe\">\n",
       "  <thead>\n",
       "    <tr style=\"text-align: right;\">\n",
       "      <th></th>\n",
       "      <th>sign_petition</th>\n",
       "      <th>post_terrorbill</th>\n",
       "      <th>part_bigfour</th>\n",
       "      <th>victim</th>\n",
       "    </tr>\n",
       "  </thead>\n",
       "  <tbody>\n",
       "    <tr>\n",
       "      <th>0</th>\n",
       "      <td>0</td>\n",
       "      <td>1</td>\n",
       "      <td>0</td>\n",
       "      <td>0</td>\n",
       "    </tr>\n",
       "    <tr>\n",
       "      <th>1</th>\n",
       "      <td>0</td>\n",
       "      <td>0</td>\n",
       "      <td>1</td>\n",
       "      <td>1</td>\n",
       "    </tr>\n",
       "    <tr>\n",
       "      <th>2</th>\n",
       "      <td>1</td>\n",
       "      <td>1</td>\n",
       "      <td>1</td>\n",
       "      <td>1</td>\n",
       "    </tr>\n",
       "    <tr>\n",
       "      <th>3</th>\n",
       "      <td>0</td>\n",
       "      <td>0</td>\n",
       "      <td>0</td>\n",
       "      <td>0</td>\n",
       "    </tr>\n",
       "    <tr>\n",
       "      <th>4</th>\n",
       "      <td>0</td>\n",
       "      <td>1</td>\n",
       "      <td>1</td>\n",
       "      <td>0</td>\n",
       "    </tr>\n",
       "  </tbody>\n",
       "</table>\n",
       "</div>"
      ],
      "text/plain": [
       "   sign_petition  post_terrorbill  part_bigfour  victim\n",
       "0              0                1             0       0\n",
       "1              0                0             1       1\n",
       "2              1                1             1       1\n",
       "3              0                0             0       0\n",
       "4              0                1             1       0"
      ]
     },
     "execution_count": 16,
     "metadata": {},
     "output_type": "execute_result"
    }
   ],
   "source": [
    "df_TROLLS.head()"
   ]
  },
  {
   "cell_type": "code",
   "execution_count": 81,
   "metadata": {},
   "outputs": [],
   "source": [
    "a = df_TROLLS['victim'].to_numpy()\n",
    "b = df_TROLLS[['sign_petition', 'post_terrorbill', 'part_bigfour']].to_numpy()"
   ]
  },
  {
   "cell_type": "code",
   "execution_count": 18,
   "metadata": {},
   "outputs": [],
   "source": [
    "data = {\n",
    "    'target': (a),\n",
    "    'data': (b),\n",
    "    'feature_names':['sign_petition', 'post_terrorbill', 'part_bigfour'],\n",
    "    'target_names':np.asarray(('No', 'Yes'))\n",
    "}\n",
    "c = data\n"
   ]
  },
  {
   "cell_type": "code",
   "execution_count": 19,
   "metadata": {},
   "outputs": [],
   "source": [
    "X_train, X_test, y_train, y_test = train_test_split(\n",
    "    c['data'], c['target'],test_size=0.30, \n",
    "    random_state=2)"
   ]
  },
  {
   "cell_type": "code",
   "execution_count": 20,
   "metadata": {},
   "outputs": [
    {
     "name": "stdout",
     "output_type": "stream",
     "text": [
      "X_train shape: (95, 3)\n",
      "Y_train shape: (95,)\n"
     ]
    }
   ],
   "source": [
    "print(\"X_train shape: {}\".format(X_train.shape))\n",
    "print(\"Y_train shape: {}\".format(y_train.shape))"
   ]
  },
  {
   "cell_type": "code",
   "execution_count": 21,
   "metadata": {},
   "outputs": [
    {
     "name": "stdout",
     "output_type": "stream",
     "text": [
      "X_test shape: (41, 3)\n",
      "Y_test shape: (41,)\n"
     ]
    }
   ],
   "source": [
    "print(\"X_test shape: {}\".format(X_test.shape))\n",
    "print(\"Y_test shape: {}\".format(y_test.shape))"
   ]
  },
  {
   "cell_type": "code",
   "execution_count": 37,
   "metadata": {},
   "outputs": [],
   "source": [
    "knn = KNeighborsClassifier(n_neighbors=10)"
   ]
  },
  {
   "cell_type": "code",
   "execution_count": 38,
   "metadata": {},
   "outputs": [
    {
     "data": {
      "text/plain": [
       "KNeighborsClassifier(algorithm='auto', leaf_size=30, metric='minkowski',\n",
       "                     metric_params=None, n_jobs=None, n_neighbors=10, p=2,\n",
       "                     weights='uniform')"
      ]
     },
     "execution_count": 38,
     "metadata": {},
     "output_type": "execute_result"
    }
   ],
   "source": [
    "knn.fit(X_train, y_train)"
   ]
  },
  {
   "cell_type": "markdown",
   "metadata": {},
   "source": [
    "## Test cases for the model"
   ]
  },
  {
   "cell_type": "markdown",
   "metadata": {},
   "source": [
    "The following codes predict if the features contribute to the target `victim`. From here you will see an array of values like `np.array([[0,0,0]])`. These numbers refer to the `feature_names` `['sign_petition', 'post_terrorbill', 'part_bigfour']`.\n",
    "\n",
    "See the comments on the following use cases below and observe the behavior of the model."
   ]
  },
  {
   "cell_type": "code",
   "execution_count": 39,
   "metadata": {},
   "outputs": [
    {
     "data": {
      "text/plain": [
       "['sign_petition', 'post_terrorbill', 'part_bigfour']"
      ]
     },
     "execution_count": 39,
     "metadata": {},
     "output_type": "execute_result"
    }
   ],
   "source": [
    "data['feature_names']"
   ]
  },
  {
   "cell_type": "code",
   "execution_count": 58,
   "metadata": {},
   "outputs": [
    {
     "name": "stdout",
     "output_type": "stream",
     "text": [
      "Prediction: [0]\n",
      "Victim? ['No']\n"
     ]
    }
   ],
   "source": [
    "# Individual did not sign the petition, did not post #JunkTerrorBil, is not in Big 4 trashtalk group\n",
    "X_new = np.array([[0,0,0]])\n",
    "prediction = knn.predict(X_new)\n",
    "print(\"Prediction: {}\".format(prediction))\n",
    "print(\"Victim? {}\".format(\n",
    "       c['target_names'][prediction]))"
   ]
  },
  {
   "cell_type": "code",
   "execution_count": 57,
   "metadata": {},
   "outputs": [
    {
     "name": "stdout",
     "output_type": "stream",
     "text": [
      "Prediction: [1]\n",
      "Victim? ['Yes']\n"
     ]
    }
   ],
   "source": [
    "# Individual signed the petition, posted #JunkTerrorBil, is in Big 4 trashtalk group\n",
    "X_new = np.array([[1,1,1]])\n",
    "prediction = knn.predict(X_new)\n",
    "print(\"Prediction: {}\".format(prediction))\n",
    "print(\"Victim? {}\".format(\n",
    "       c['target_names'][prediction]))"
   ]
  },
  {
   "cell_type": "code",
   "execution_count": 61,
   "metadata": {},
   "outputs": [
    {
     "name": "stdout",
     "output_type": "stream",
     "text": [
      "Prediction: [1]\n",
      "Victim? ['Yes']\n"
     ]
    }
   ],
   "source": [
    "# Individual signed the petition, did not post #JunkTerrorBil, is not in Big 4 trashtalk group\n",
    "X_new = np.array([[1,0,0]])\n",
    "prediction = knn.predict(X_new)\n",
    "print(\"Prediction: {}\".format(prediction))\n",
    "print(\"Victim? {}\".format(\n",
    "       c['target_names'][prediction]))"
   ]
  },
  {
   "cell_type": "code",
   "execution_count": 98,
   "metadata": {},
   "outputs": [
    {
     "name": "stdout",
     "output_type": "stream",
     "text": [
      "Prediction: [0]\n",
      "Victim? ['No']\n"
     ]
    }
   ],
   "source": [
    "# Individual did not sign the petition, posted #JunkTerrorBil, is in Big 4 trashtalk group\n",
    "X_new = np.array([[0,1,1]])\n",
    "prediction = knn.predict(X_new)\n",
    "print(\"Prediction: {}\".format(prediction))\n",
    "print(\"Victim? {}\".format(\n",
    "       c['target_names'][prediction]))"
   ]
  },
  {
   "cell_type": "code",
   "execution_count": 99,
   "metadata": {},
   "outputs": [
    {
     "name": "stdout",
     "output_type": "stream",
     "text": [
      "Prediction: [1]\n",
      "Victim? ['Yes']\n"
     ]
    }
   ],
   "source": [
    "# Individual did not sign the petition, posted #JunkTerrorBil, is in Big 4 trashtalk group\n",
    "X_new = np.array([[1,0,1]])\n",
    "prediction = knn.predict(X_new)\n",
    "print(\"Prediction: {}\".format(prediction))\n",
    "print(\"Victim? {}\".format(\n",
    "       c['target_names'][prediction]))"
   ]
  },
  {
   "cell_type": "code",
   "execution_count": 97,
   "metadata": {},
   "outputs": [
    {
     "name": "stdout",
     "output_type": "stream",
     "text": [
      "Test set score: 0.53\n"
     ]
    }
   ],
   "source": [
    "print(\"Test set score: {:.2f}\".format(knn.score(X_test, y_test)))"
   ]
  },
  {
   "cell_type": "markdown",
   "metadata": {},
   "source": [
    "----\n",
    "\n",
    "The codes that follow are just some evaluations to compare predictions between the training set and the test sets, and how close they are."
   ]
  },
  {
   "cell_type": "markdown",
   "metadata": {},
   "source": [
    "Now testing the `test_set` and comparing it with our original test set."
   ]
  },
  {
   "cell_type": "code",
   "execution_count": 72,
   "metadata": {},
   "outputs": [
    {
     "name": "stdout",
     "output_type": "stream",
     "text": [
      "Test set predictions:\n",
      " [0, 1, 0, 1, 0, 0, 0, 0, 0, 1, 0, 0, 1, 0, 1, 0, 0, 1, 0, 1, 0, 1, 0, 1, 0, 0, 1, 1, 0, 1, 0, 1, 1, 1]\n",
      "Original predictions:\n",
      " [1, 1, 0, 0, 1, 1, 0, 1, 1, 1, 1, 1, 0, 1, 0, 0, 1, 1, 0, 0, 1, 1, 0, 1, 0, 1, 1, 1, 0, 0, 0, 1, 1, 1]\n"
     ]
    }
   ],
   "source": [
    "y_pred = knn.predict(X_test)\n",
    "print(\"Test set predictions:\\n {}\".format(np.array(y_pred).tolist()))\n",
    "\n",
    "print(\"Original predictions:\\n {}\".format(np.array(y_test).tolist()))"
   ]
  },
  {
   "cell_type": "markdown",
   "metadata": {},
   "source": [
    "# Conclusion"
   ]
  },
  {
   "cell_type": "markdown",
   "metadata": {},
   "source": [
    "At around 53 percent accuracy rate, this test is near non-indicative whether the three features correlate to you being a target **BUT** take note of the following things:\n",
    "- Whether you signed the petition against the terror bill, posted something with the hashtag #JunkTerrorBill, or you are part of the Big4 Trashtalkan group, you are a possible victim.\n",
    "- Based on this model, you're most likely a victim if you signed the petition against the terror bill. This is also the greatest factor in determining whether you're a victim or not.\n",
    "- If you did not sign but you posted with the hashtage #JunkTerrorbill, and you are part of the big four trashtalkan group, you're most likely a victim. \n",
    "\n",
    "Nonetheless, please keep your accounts safe. Check your profiles. Lock your timelines. At this point, anyone **is** a victim. \n",
    "\n",
    "For information about keeping your profiles safe, please click [here](https://www.wired.com/story/facebook-privacy-apps-ads-friends-delete-account/)."
   ]
  }
 ],
 "metadata": {
  "kernelspec": {
   "display_name": "Python 3",
   "language": "python",
   "name": "python3"
  },
  "language_info": {
   "codemirror_mode": {
    "name": "ipython",
    "version": 3
   },
   "file_extension": ".py",
   "mimetype": "text/x-python",
   "name": "python",
   "nbconvert_exporter": "python",
   "pygments_lexer": "ipython3",
   "version": "3.7.6"
  }
 },
 "nbformat": 4,
 "nbformat_minor": 4
}
